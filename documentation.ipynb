{
 "cells": [
  {
   "attachments": {},
   "cell_type": "markdown",
   "metadata": {},
   "source": [
    "# Identifying and Defining\n",
    "\n",
    "## Choose your Data Scenario and Define your Purpose\n",
    "\n",
    "**Data:** The dataset which I have chosen has the statistics of all the NBA players over each season from 1996-2022.\n",
    "\n",
    "**Goal:** To find out the if, the players age correlates to the average number of points they have scored each game.\n",
    "\n",
    "**Source:** https://www.kaggle.com/datasets/justinas/nba-players-data\n",
    "\n",
    "**Access:** This particular dataset is open to the public using kaggle.com and to access this data you must create an account.\n",
    "\n",
    "**Access Method:** The data is accessed using the .csv format\n",
    "\n",
    "## Functional Requirements\n",
    "\n",
    "**Data Loading:** Consider aspects such as ability to load certain file types and handling errors in file loading (e.g. incorrect format, missing files).\n",
    "\n",
    "**Data Cleaning:** Does the system need to handle missing values or allow for filtering, sorting and grouping of data?\n",
    "\n",
    "**Data Analysis:** What kind of statistical analysis does the system need to allow for (e.g. mean, median, mode)?\n",
    "\n",
    "**Data Visualisation:** How will the data need to be visualised (e.g. Pandas dataframes / Matplotlib chart types)?\n",
    "\n",
    "**Data Reporting:** What output should the system include, and do we need to store the final dataset somewhere (e.g. .csv or .txt file)?\n",
    "\n",
    "\n",
    "\n",
    "\n",
    "\n"
   ]
  },
  {
   "cell_type": "markdown",
   "metadata": {},
   "source": []
  }
 ],
 "metadata": {
  "language_info": {
   "name": "python"
  },
  "orig_nbformat": 4
 },
 "nbformat": 4,
 "nbformat_minor": 2
}
